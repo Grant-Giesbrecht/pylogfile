{
 "cells": [
  {
   "cell_type": "raw",
   "metadata": {
    "raw_mimetype": "text/restructuredtext"
   },
   "source": [
    ".. _introduction:\n",
    "\n",
    "|\n",
    "|\n",
    "\n",
    "Download This Notebook: :download:`Introduction.ipynb`"
   ]
  },
  {
   "cell_type": "markdown",
   "metadata": {},
   "source": [
    "# Why Use pylogfile\n",
    "\n",
    "Python already includes a standard logging module, so why bother using something like pylogfile? In short, pylogfile makes it easier to make good logs quickly. The standard logging module offers loads of advanced features, but for many Python users it offers more features than neccesary and setting it up to provide similar functionality offered by pylogfile is too time intensive and just skipped. Fundamentally, *pylogfile is logging designed for end users and science applications*, and thus prioritizes ease of use, saving data, and clear formatting.\n",
    "\n",
    "![alt text](../images/ex1_output.png \"Title\")"
   ]
  }
 ],
 "metadata": {
  "anaconda-cloud": {},
  "kernelspec": {
   "display_name": "Python 3",
   "language": "python",
   "name": "python3"
  },
  "language_info": {
   "codemirror_mode": {
    "name": "ipython",
    "version": 3
   },
   "file_extension": ".py",
   "mimetype": "text/x-python",
   "name": "python",
   "nbconvert_exporter": "python",
   "pygments_lexer": "ipython3",
   "version": "3.10.4"
  }
 },
 "nbformat": 4,
 "nbformat_minor": 1
}
