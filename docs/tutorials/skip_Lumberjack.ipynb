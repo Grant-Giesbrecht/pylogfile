{
 "cells": [
  {
   "cell_type": "raw",
   "metadata": {
    "raw_mimetype": "text/restructuredtext"
   },
   "source": [
    ".. _introduction:\n",
    "\n",
    "|\n",
    "|\n",
    "\n",
    "Download This Notebook: :download:`Introduction.ipynb`"
   ]
  },
  {
   "cell_type": "markdown",
   "metadata": {},
   "source": [
    "# How to Use Lumberjack\n",
    "\n",
    "Lumberjack is a command line interface program (CLI) included with pylogfile that allows log files to be quickly viewed, sorted, and analyzed. A log file can be opened in lumberjack with:\n",
    "\n",
    "```\n",
    "lumber example.log.hdf\n",
    "```\n",
    "\n",
    "and the first few logs can be displayed with the \n",
    "\n",
    "![alt text](../images/ex1_output.png \"Title\")"
   ]
  }
 ],
 "metadata": {
  "anaconda-cloud": {},
  "kernelspec": {
   "display_name": "Python 3",
   "language": "python",
   "name": "python3"
  },
  "language_info": {
   "codemirror_mode": {
    "name": "ipython",
    "version": 3
   },
   "file_extension": ".py",
   "mimetype": "text/x-python",
   "name": "python",
   "nbconvert_exporter": "python",
   "pygments_lexer": "ipython3",
   "version": "3.10.4"
  }
 },
 "nbformat": 4,
 "nbformat_minor": 1
}
